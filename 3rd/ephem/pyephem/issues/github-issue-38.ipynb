{
 "metadata": {
  "name": "",
  "signature": "sha256:18f248cdb935e99282f41ae6f208e515a38d05e44e80ad015624dae612d7e2f4"
 },
 "nbformat": 3,
 "nbformat_minor": 0,
 "worksheets": [
  {
   "cells": [
    {
     "cell_type": "code",
     "collapsed": false,
     "input": [
      "# https://github.com/brandon-rhodes/pyephem/issues/38\n",
      "\n",
      "%pylab inline"
     ],
     "language": "python",
     "metadata": {},
     "outputs": [
      {
       "output_type": "stream",
       "stream": "stdout",
       "text": [
        "Populating the interactive namespace from numpy and matplotlib\n"
       ]
      }
     ],
     "prompt_number": 1
    },
    {
     "cell_type": "code",
     "collapsed": false,
     "input": [
      "# Q: Why is setting-date after rise-date?\n",
      "\n",
      "import datetime\n",
      "import ephem\n",
      "boston = ephem.city('Boston')\n",
      "boston.date = datetime.datetime(2014, 3, 31, 23, 30, 17, 899671)\n",
      "body = ephem.readtle('SIRIUS-1',\n",
      "                     '1 26390U 00035A   14089.46488652 -.00000046  00000-0  00000+0 0  3087',\n",
      "                     '2 26390  60.0759 240.4423 2664442 270.1712 107.9086  1.00273291 50366')\n",
      "rise_time, _, _, _, set_time, _ = boston.next_pass(body)\n",
      "print \"Observer date: %s\" % boston.date\n",
      "print \"Rise date: %s\" % rise_time\n",
      "print \"Set date: %s\" % set_time"
     ],
     "language": "python",
     "metadata": {},
     "outputs": [
      {
       "output_type": "stream",
       "stream": "stdout",
       "text": [
        "Observer date: 2014/3/31 23:30:17\n",
        "Rise date: 2014/4/1 05:39:28\n",
        "Set date: 2014/4/1 00:49:37\n"
       ]
      }
     ],
     "prompt_number": 3
    },
    {
     "cell_type": "code",
     "collapsed": false,
     "input": [
      "# Okay, let's take a look at how the satellite behaved that day.\n",
      "# Zero degrees altitude is when it is one the horizon.\n",
      "\n",
      "date = [datetime.datetime(2014, 3, 31, h, m) for h in range(24)\n",
      "        for m in range(0, 60)]\n",
      "altitude = []\n",
      "for d in date:\n",
      "    boston.date = d\n",
      "    body.compute(boston)\n",
      "    altitude.append(body.alt)\n",
      "\n",
      "plot(date, altitude)"
     ],
     "language": "python",
     "metadata": {},
     "outputs": [
      {
       "metadata": {},
       "output_type": "pyout",
       "prompt_number": 12,
       "text": [
        "[<matplotlib.lines.Line2D at 0xac0542c>]"
       ]
      },
      {
       "metadata": {},
       "output_type": "display_data",
       "png": "[encoded data removed]",
       "text": [
        "<matplotlib.figure.Figure at 0xaa2e5cc>"
       ]
      }
     ],
     "prompt_number": 12
    },
    {
     "cell_type": "code",
     "collapsed": false,
     "input": [
      "# See the issue for what I see happening in this graph."
     ],
     "language": "python",
     "metadata": {},
     "outputs": []
    }
   ],
   "metadata": {}
  }
 ]
}