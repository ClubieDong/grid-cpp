{
 "metadata": {
  "name": "",
  "signature": "sha256:5e346059a27527fcdc5c6877901966c3aaeda4f1269706a5c0f414bd5881d062"
 },
 "nbformat": 3,
 "nbformat_minor": 0,
 "worksheets": [
  {
   "cells": [
    {
     "cell_type": "markdown",
     "metadata": {},
     "source": [
      "# Why does one more minute let ephem find a sunset?"
     ]
    },
    {
     "cell_type": "code",
     "collapsed": false,
     "input": [
      "%pylab inline"
     ],
     "language": "python",
     "metadata": {},
     "outputs": [
      {
       "output_type": "stream",
       "stream": "stdout",
       "text": [
        "Populating the interactive namespace from numpy and matplotlib\n"
       ]
      }
     ],
     "prompt_number": 1
    },
    {
     "cell_type": "code",
     "collapsed": false,
     "input": [
      "import ephem"
     ],
     "language": "python",
     "metadata": {},
     "outputs": [],
     "prompt_number": 2
    },
    {
     "cell_type": "code",
     "collapsed": false,
     "input": [
      "start1 = ephem.date('2013/11/26 18:37')\n",
      "start2 = ephem.date('2013/11/26 18:38')"
     ],
     "language": "python",
     "metadata": {},
     "outputs": [],
     "prompt_number": 3
    },
    {
     "cell_type": "code",
     "collapsed": false,
     "input": [
      "arctic = ephem.Observer()\n",
      "arctic.pressure = 0 \n",
      "arctic.horizon = '-0:34' \n",
      "arctic.lat, arctic.lon = '89:30', '0' \n",
      "\n",
      "arctic.date = start1\n",
      "try:\n",
      "    arctic.next_setting(ephem.Moon())\n",
      "except Exception as e:\n",
      "    print e\n",
      "\n",
      "m = ephem.Moon()\n",
      "arctic.date = start2\n",
      "setting = arctic.next_setting(m)\n",
      "print setting, 'gives altitude', m.alt"
     ],
     "language": "python",
     "metadata": {},
     "outputs": [
      {
       "output_type": "stream",
       "stream": "stdout",
       "text": [
        "'Moon' is still above the horizon at 2013/11/26 18:37:06\n",
        "2013/11/27 07:37:21 gives altitude -0:49:16.9\n"
       ]
      }
     ],
     "prompt_number": 4
    },
    {
     "cell_type": "code",
     "collapsed": false,
     "input": [
      "m = ephem.Moon()\n",
      "m.compute(arctic)\n",
      "m.alt"
     ],
     "language": "python",
     "metadata": {},
     "outputs": [
      {
       "metadata": {},
       "output_type": "pyout",
       "prompt_number": 5,
       "text": [
        "0.007962668314576149"
       ]
      }
     ],
     "prompt_number": 5
    },
    {
     "cell_type": "code",
     "collapsed": false,
     "input": [
      "arctic.date = '2013/11/26 00:00'\n",
      "dates = []\n",
      "altitudes = []\n",
      "azimuths = []\n",
      "for n in range(24 * 60 * 3):\n",
      "    arctic.date += ephem.minute\n",
      "    m.compute(arctic)\n",
      "    dates.append(arctic.date)\n",
      "    altitudes.append(m.alt)\n",
      "    azimuths.append(m.az)"
     ],
     "language": "python",
     "metadata": {},
     "outputs": [],
     "prompt_number": 6
    },
    {
     "cell_type": "code",
     "collapsed": false,
     "input": [
      "plot(dates, altitudes)\n",
      "vlines([start1, setting], [-0.199], [0.099])\n",
      "hlines([arctic.horizon - m.radius], [4.1602e4 + 0.5], [4.1602e4 + 3.99])"
     ],
     "language": "python",
     "metadata": {},
     "outputs": [
      {
       "metadata": {},
       "output_type": "pyout",
       "prompt_number": 7,
       "text": [
        "<matplotlib.collections.LineCollection at 0xb03c80c>"
       ]
      },
      {
       "metadata": {},
       "output_type": "display_data",
       "png": "[encoded data removed]",
       "text": [
        "<matplotlib.figure.Figure at 0xaf36e4c>"
       ]
      }
     ],
     "prompt_number": 7
    },
    {
     "cell_type": "code",
     "collapsed": false,
     "input": [
      "class MyMoon(ephem.Moon):\n",
      "    def compute(self, observer):\n",
      "        ephem.Moon.compute(self, observer)\n",
      "        print '*', observer.date, self.alt"
     ],
     "language": "python",
     "metadata": {},
     "outputs": [],
     "prompt_number": 8
    },
    {
     "cell_type": "code",
     "collapsed": false,
     "input": [
      "# From start1, the algorithm barely explores at all\n",
      "\n",
      "mm = MyMoon()\n",
      "arctic.date = start1\n",
      "try:\n",
      "    arctic.next_setting(mm)\n",
      "except Exception as e:\n",
      "    print e"
     ],
     "language": "python",
     "metadata": {},
     "outputs": [
      {
       "output_type": "stream",
       "stream": "stdout",
       "text": [
        "* 2013/11/26 18:37:00 0:27:32.8\n",
        "* 2013/11/26 18:37:00 0:27:32.8\n",
        "* 2013/11/26 18:37:06 0:27:31.7\n",
        "* 2013/11/26 18:38:06 0:27:21.3\n",
        "* 2013/11/26 18:37:06 0:27:31.7\n",
        "* 2013/11/26 18:37:06 0:27:31.7\n",
        "'Moon' is still above the horizon at 2013/11/26 18:37:06\n"
       ]
      }
     ],
     "prompt_number": 9
    },
    {
     "cell_type": "code",
     "collapsed": false,
     "input": [
      "# From start2, it moves boldly forward to the setting time\n",
      "\n",
      "arctic.date = start2\n",
      "setting = arctic.next_setting(mm)"
     ],
     "language": "python",
     "metadata": {},
     "outputs": [
      {
       "output_type": "stream",
       "stream": "stdout",
       "text": [
        "* 2013/11/26 18:38:00 0:27:22.4\n",
        "* 2013/11/26 18:38:00 0:27:22.4\n",
        "* 2013/11/27 06:37:08 -0:38:25.0\n",
        "* 2013/11/27 06:38:08 -0:38:34.9\n",
        "* 2013/11/27 06:59:26 -0:42:12.8\n",
        "* 2013/11/27 06:59:26 -0:42:12.8\n",
        "* 2013/11/27 06:59:26 -0:42:12.8\n",
        "* 2013/11/27 18:59:26 -3:49:31.0\n",
        "* 2013/11/27 19:00:26 -3:49:42.4\n",
        "* 2013/11/27 19:22:09 -3:53:41.3\n",
        "* 2013/11/27 19:22:09 -3:53:41.3\n",
        "* 2013/11/27 13:10:47 -2:17:50.1\n",
        "* 2013/11/27 13:11:47 -2:18:08.4\n",
        "* 2013/11/27 08:19:29 -0:58:02.0\n",
        "* 2013/11/27 07:47:33 -0:51:19.0\n",
        "* 2013/11/27 07:37:53 -0:49:23.3\n",
        "* 2013/11/27 07:37:21 -0:49:17.0\n",
        "* 2013/11/27 07:37:21 -0:49:16.9\n",
        "* 2013/11/27 07:37:21 -0:49:16.9\n"
       ]
      }
     ],
     "prompt_number": 10
    },
    {
     "cell_type": "code",
     "collapsed": false,
     "input": [
      "# But why is the first search ending so soon?\n",
      "# Let's watch.\n",
      "\n",
      "import os, trace\n",
      "t = trace.Trace(count=0, trace=1, ignoredirs=[os.path.dirname(trace.__file__)])\n",
      "arctic.date = start1\n",
      "try:\n",
      "    t.runfunc(arctic.next_setting, mm)\n",
      "except Exception as e:\n",
      "    print e"
     ],
     "language": "python",
     "metadata": {},
     "outputs": [
      {
       "output_type": "stream",
       "stream": "stdout",
       "text": [
        " --- modulename: __init__, funcname: next_setting\n",
        "__init__.py(461):         return self._riset_helper(body, start, use_center, False, False)\n",
        " --- modulename: __init__, funcname: _riset_helper\n",
        "__init__.py(367):         if isinstance(body, EarthSatellite):\n",
        "__init__.py(374):         def visit_transit():\n",
        "__init__.py(382):         def visit_antitransit():\n",
        "__init__.py(393):         if use_center:\n",
        "__init__.py(396):             use_radius = 1.0\n",
        "__init__.py(399):         original_date = self.date\n",
        "__init__.py(403):         if start is not None:\n",
        "__init__.py(405):         if previous:\n",
        "__init__.py(408):             self.date += default_newton_precision\n",
        "__init__.py(411):         body.compute(self)\n",
        "* 2013/11/26 18:37:00 0:27:32.8\n",
        "__init__.py(412):         heading_downward = (rising == previous) # \"==\" is inverted \"xor\"\n",
        "__init__.py(413):         if heading_downward:\n",
        "__init__.py(415):                              - self.horizon > tiny)\n",
        "__init__.py(420):         az = body.az\n",
        "__init__.py(421):         on_right_side_of_sky = ((rising == (az < pi)) # inverted \"xor\"\n",
        "__init__.py(426):         if on_lower_cusp and on_right_side_of_sky:\n",
        "__init__.py(427):             d0 = self.date\n",
        "__init__.py(432):         if heading_downward:\n",
        "__init__.py(433):             d1 = visit_antitransit()\n",
        " --- modulename: __init__, funcname: visit_antitransit\n",
        "__init__.py(383):             d = (previous and self._previous_antitransit(body)\n",
        "__init__.py(384):                  or self._next_antitransit(body)) # if-then\n",
        " --- modulename: __init__, funcname: _next_antitransit\n",
        "__init__.py(313):         return self._compute_transit(body, start, +1., pi)\n",
        " --- modulename: __init__, funcname: _compute_transit\n",
        "__init__.py(271):         if isinstance(body, EarthSatellite):\n",
        "__init__.py(278):         def f(d):\n",
        "__init__.py(283):         if start is not None:\n",
        "__init__.py(285):         sidereal_time = self.sidereal_time\n",
        "__init__.py(286):         body.compute(self)\n",
        "* 2013/11/26 18:37:00 0:27:32.8\n",
        "__init__.py(287):         ha = sidereal_time() - body.g_ra\n",
        "__init__.py(288):         ha_to_move = (offset - ha) % (sign * twopi)\n",
        "__init__.py(289):         if abs(ha_to_move) < tiny:\n",
        "__init__.py(291):         d = self.date + ha_to_move / twopi\n",
        "__init__.py(292):         result = Date(newton(f, d, d + minute))\n",
        " --- modulename: __init__, funcname: newton\n",
        "__init__.py(94):     f0, f1 = f(x0), f(x1)\n",
        " --- modulename: __init__, funcname: f\n",
        "__init__.py(279):             self.date = d\n",
        "__init__.py(280):             body.compute(self)\n",
        "* 2013/11/26 18:37:06 0:27:31.7\n",
        "__init__.py(281):             return degrees(offset - sidereal_time() + body.g_ra).znorm\n",
        " --- modulename: __init__, funcname: f\n",
        "__init__.py(279):             self.date = d\n",
        "__init__.py(280):             body.compute(self)\n",
        "* 2013/11/26 18:38:06 0:27:21.3\n",
        "__init__.py(281):             return degrees(offset - sidereal_time() + body.g_ra).znorm\n",
        "__init__.py(95):     while f1 and abs(x1 - x0) > precision and f1 != f0:\n",
        "__init__.py(96):         x0, x1 = x1, x1 + (x1 - x0) / (f0/f1 - 1)\n",
        "__init__.py(97):         f0, f1 = f1, f(x1)\n",
        " --- modulename: __init__, funcname: f\n",
        "__init__.py(279):             self.date = d\n",
        "__init__.py(280):             body.compute(self)\n",
        "* 2013/11/26 18:37:06 0:27:31.7\n",
        "__init__.py(281):             return degrees(offset - sidereal_time() + body.g_ra).znorm\n",
        "__init__.py(95):     while f1 and abs(x1 - x0) > precision and f1 != f0:\n",
        "__init__.py(96):         x0, x1 = x1, x1 + (x1 - x0) / (f0/f1 - 1)\n",
        "__init__.py(97):         f0, f1 = f1, f(x1)\n",
        " --- modulename: __init__, funcname: f\n",
        "__init__.py(279):             self.date = d\n",
        "__init__.py(280):             body.compute(self)\n",
        "* 2013/11/26 18:37:06 0:27:31.7\n",
        "__init__.py(281):             return degrees(offset - sidereal_time() + body.g_ra).znorm\n",
        "__init__.py(95):     while f1 and abs(x1 - x0) > precision and f1 != f0:\n",
        "__init__.py(98):     return x1\n",
        "__init__.py(293):         return result\n",
        "__init__.py(385):             if body.alt + body.radius * use_radius - self.horizon >= 0:\n",
        "__init__.py(386):                 raise AlwaysUpError('%r is still above the horizon at %s'\n",
        "__init__.py(387):                                     % (body.name, d))\n",
        "'Moon' is still above the horizon at 2013/11/26 18:37:06\n"
       ]
      }
     ],
     "prompt_number": 11
    },
    {
     "cell_type": "code",
     "collapsed": false,
     "input": [
      "# Wait! Sunrise and sunset are searched for in the current\n",
      "# day in LOCAL time, not Universal Time, where the day\n",
      "# changes when the sun passes zero azimuth. Is that the\n",
      "# crucial difference between these two dates?\n",
      "\n",
      "plt.subplot(2, 1, 1)\n",
      "plot(dates, altitudes)\n",
      "hlines([arctic.horizon - m.radius], [4.1602e4 + 0.5], [4.1602e4 + 3.99])\n",
      "vlines([start1, setting], [-0.199], [0.099])\n",
      "plt.subplot(2, 1, 2)\n",
      "plot(dates, azimuths)"
     ],
     "language": "python",
     "metadata": {},
     "outputs": [
      {
       "metadata": {},
       "output_type": "pyout",
       "prompt_number": 12,
       "text": [
        "[<matplotlib.lines.Line2D at 0xb24334c>]"
       ]
      },
      {
       "metadata": {},
       "output_type": "display_data",
       "png": "[encoded data removed]",
       "text": [
        "<matplotlib.figure.Figure at 0xb0d620c>"
       ]
      }
     ],
     "prompt_number": 12
    },
    {
     "cell_type": "code",
     "collapsed": false,
     "input": [
      "# Yes! That is the solution: start1 and start2\n",
      "# are on different days, if we count days in local\n",
      "# solar time.\n",
      "\n",
      "arctic.date = start1\n",
      "m.compute(arctic)\n",
      "print m.az\n",
      "\n",
      "arctic.date = start2\n",
      "m.compute(arctic)\n",
      "print m.az"
     ],
     "language": "python",
     "metadata": {},
     "outputs": [
      {
       "output_type": "stream",
       "stream": "stdout",
       "text": [
        "359:58:25.6\n",
        "0:12:58.6\n"
       ]
      }
     ],
     "prompt_number": 13
    }
   ],
   "metadata": {}
  }
 ]
}